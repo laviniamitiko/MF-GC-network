{
 "cells": [
  {
   "cell_type": "code",
   "execution_count": 1,
   "id": "18eb67c7-1e1c-482b-b5f8-055708f8e54d",
   "metadata": {},
   "outputs": [
    {
     "name": "stderr",
     "output_type": "stream",
     "text": [
      "pyNeuroML >>> 01:28:23 - INFO - Loading NeuroML2 file: MF_BehMod.nml\n",
      "pyNeuroML >>> 01:28:24 - INFO - Executing: (java -Xmx400M  -jar  \"/opt/anaconda3/envs/neuroml/lib/python3.13/site-packages/pyneuroml/utils/./../lib/jNeuroML-0.14.0-jar-with-dependencies.jar\" -validate grc_behmod_network.net.nml ) in directory: .\n",
      "pyNeuroML >>> 01:28:25 - INFO - Command completed successfully!\n"
     ]
    },
    {
     "name": "stdout",
     "output_type": "stream",
     "text": [
      "✅ Saved behavior-modulated GrC network to: grc_behmod_network.net.nml\n"
     ]
    }
   ],
   "source": [
    "import pickle as pkl\n",
    "import numpy as np\n",
    "from neuroml import (\n",
    "    NeuroMLDocument, Network, Population, IncludeType, SynapticConnection\n",
    ")\n",
    "from pyneuroml.pynml import write_neuroml2_file, read_neuroml2_file\n",
    "\n",
    "# -------------------------------\n",
    "# 1. Load connectivity matrix\n",
    "# -------------------------------\n",
    "with open(\"../network_structures/GCLconnectivity_4.pkl\", 'rb') as f:\n",
    "    conn_mat = pkl.load(f)['conn_mat']\n",
    "\n",
    "N_mf, N_grc = conn_mat.shape\n",
    "\n",
    "# -------------------------------\n",
    "# 2. Load spike array definitions\n",
    "# -------------------------------\n",
    "spike_doc = read_neuroml2_file(\"MF_BehMod.nml\")\n",
    "spike_arrays = spike_doc.spike_arrays  # List of SpikeArray objects\n",
    "mf_spike_ids = [sa.id for sa in spike_arrays]\n",
    "\n",
    "assert len(mf_spike_ids) == N_mf, f\"Expected {N_mf} spike arrays, found {len(mf_spike_ids)}\"\n",
    "\n",
    "# -------------------------------\n",
    "# 3. Create NeuroML Document and GrC population\n",
    "# -------------------------------\n",
    "doc = NeuroMLDocument(id=\"MF_GrC_BehMod\")\n",
    "net = Network(id=\"MF_GrC_Network\")\n",
    "doc.networks.append(net)\n",
    "\n",
    "# Include files\n",
    "doc.includes.append(IncludeType(href=\"IaF_GrC.nml\"))       # Your GrC model\n",
    "doc.includes.append(IncludeType(href=\"MF_BehMod.nml\"))     # Your SpikeArrays\n",
    "grc_cell_id = \"IaF_GrC\"\n",
    "\n",
    "# Add GrC population\n",
    "net.populations.append(Population(id=\"GrCPop\", component=grc_cell_id, size=N_grc))\n",
    "\n",
    "# -------------------------------\n",
    "# 4. Create one population per SpikeArray\n",
    "# -------------------------------\n",
    "for spike_id in mf_spike_ids:\n",
    "    pop = Population(id=f\"{spike_id}_pop\", component=spike_id, size=1)\n",
    "    net.populations.append(pop)\n",
    "\n",
    "# -------------------------------\n",
    "# 5. Add MF → GrC synaptic connections\n",
    "# -------------------------------\n",
    "ampa_syn_id = \"RothmanMFToGrCAMPA\"\n",
    "nmda_syn_id = \"RothmanMFToGrCNMDA\"\n",
    "\n",
    "for mf_idx, spike_id in enumerate(mf_spike_ids):\n",
    "    target_grcs = np.where(conn_mat[mf_idx, :] == 1)[0]\n",
    "    for grc_ix in target_grcs:\n",
    "        for syn in [ampa_syn_id, nmda_syn_id]:\n",
    "            conn = SynapticConnection(\n",
    "                from_=f\"{spike_id}_pop[0]\",\n",
    "                to=f\"GrCPop[{grc_ix}]\",\n",
    "                synapse=syn\n",
    "            )\n",
    "            net.synaptic_connections.append(conn)\n",
    "\n",
    "# -------------------------------\n",
    "# 6. Save Network\n",
    "# -------------------------------\n",
    "output_file = \"grc_behmod_network.net.nml\"\n",
    "write_neuroml2_file(doc, output_file)\n",
    "print(f\"✅ Saved behavior-modulated GrC network to: {output_file}\")"
   ]
  },
  {
   "cell_type": "code",
   "execution_count": 2,
   "id": "93862a74-9a24-4392-b9c6-d6b796fb60bd",
   "metadata": {},
   "outputs": [
    {
     "name": "stderr",
     "output_type": "stream",
     "text": [
      "pyNeuroML >>> 01:28:25 - INFO - Loading NeuroML2 file: /Users/laviniatakarabe/Desktop/updated_version/biophysical_model/grc_behmod_network.net.nml\n",
      "pyNeuroML >>> 01:28:25 - INFO - Loading NeuroML2 file: /Users/laviniatakarabe/Desktop/updated_version/biophysical_model/IaF_GrC.nml\n",
      "pyNeuroML >>> 01:28:25 - INFO - Loading NeuroML2 file: /Users/laviniatakarabe/Desktop/updated_version/biophysical_model/MF_BehMod.nml\n",
      "pyNeuroML >>> 01:28:25 - INFO - Loading NeuroML2 file: /Users/laviniatakarabe/Desktop/updated_version/biophysical_model/IaF_GrC.nml\n",
      "pyNeuroML >>> 01:28:25 - INFO - Loading NeuroML2 file: /Users/laviniatakarabe/Desktop/updated_version/biophysical_model/MF_BehMod.nml\n",
      "pyNeuroML >>> 01:28:26 - INFO - Writing LEMS Simulation Sim_MF_GrC_BehMod to file: LEMS_Sim_MF_GrC_BehMod.xml...\n",
      "pyNeuroML >>> 01:28:26 - INFO - Written LEMS Simulation Sim_MF_GrC_BehMod to file: LEMS_Sim_MF_GrC_BehMod.xml\n"
     ]
    },
    {
     "name": "stdout",
     "output_type": "stream",
     "text": [
      "✅ LEMS simulation file saved as: LEMS_Sim_MF_GrC_BehMod.xml\n"
     ]
    }
   ],
   "source": [
    "from pyneuroml.lems.LEMSSimulation import LEMSSimulation\n",
    "from pyneuroml.pynml import write_lems_file\n",
    "\n",
    "# -------------------------------\n",
    "# 7. Create LEMS Simulation File\n",
    "# -------------------------------\n",
    "sim_id = \"Sim_MF_GrC_BehMod\"\n",
    "duration = 100 # in ms, since your spikes start at 60s\n",
    "dt = 0.1 #0.05\n",
    "\n",
    "sim = LEMSSimulation(sim_id, duration, dt)\n",
    "sim.assign_simulation_target(\"MF_GrC_Network\")\n",
    "\n",
    "# Include required NeuroML and synapse definitions\n",
    "sim.include_neuroml2_file(\"grc_behmod_network.net.nml\")\n",
    "sim.include_neuroml2_file(\"IaF_GrC.nml\")\n",
    "sim.include_neuroml2_file(\"MF_BehMod.nml\")\n",
    "sim.include_lems_file(\"../grc_lemsDefinitions/RothmanMFToGrCAMPA_4.xml\", include_included=False)\n",
    "sim.include_lems_file(\"../grc_lemsDefinitions/RothmanMFToGrCNMDA_4.xml\", include_included=False)\n",
    "\n",
    "# -------------------------------\n",
    "# 8. Output spike times from GrCs\n",
    "# -------------------------------\n",
    "sim.create_event_output_file(\"GrCspikes\", \"GrC_spikes_behmod.dat\")\n",
    "for i in range(N_grc):\n",
    "    sim.add_selection_to_event_output_file(\"GrCspikes\", i, f\"GrCPop[{i}]\", \"spike\")\n",
    "\n",
    "# -------------------------------\n",
    "# 9. Output spike times from each MF (SpikeArray)\n",
    "# -------------------------------\n",
    "sim.create_event_output_file(\"MFspikes\", \"MF_spikes_behmod.dat\")\n",
    "for mf_idx, spike_id in enumerate(mf_spike_ids):\n",
    "    sim.add_selection_to_event_output_file(\"MFspikes\", mf_idx, f\"{spike_id}_pop[0]\", \"spike\")\n",
    "\n",
    "# Save LEMS file\n",
    "lems_file = sim.save_to_file()\n",
    "print(f\"✅ LEMS simulation file saved as: {lems_file}\")"
   ]
  },
  {
   "cell_type": "code",
   "execution_count": null,
   "id": "f8af1c83-ac26-41a0-b2ad-ff11381cbf89",
   "metadata": {},
   "outputs": [
    {
     "name": "stderr",
     "output_type": "stream",
     "text": [
      "pyNeuroML >>> 01:28:26 - INFO - Loading LEMS file: LEMS_Sim_MF_GrC_BehMod.xml and running with jNeuroML\n",
      "pyNeuroML >>> 01:28:26 - INFO - Executing: (java -Xmx8G  -Djava.awt.headless=true -jar  \"/opt/anaconda3/envs/neuroml/lib/python3.13/site-packages/pyneuroml/utils/./../lib/jNeuroML-0.14.0-jar-with-dependencies.jar\"  LEMS_Sim_MF_GrC_BehMod.xml  -nogui -I '') in directory: .\n"
     ]
    }
   ],
   "source": [
    "from pyneuroml.pynml import run_lems_with_jneuroml\n",
    "from datetime import datetime\n",
    "\n",
    "start_time = datetime.now()\n",
    "\n",
    "results = run_lems_with_jneuroml(\n",
    "    lems_file,\n",
    "    max_memory=\"8G\",\n",
    "    nogui=True\n",
    ")\n",
    "\n",
    "end_time = datetime.now()\n",
    "elapsed = end_time - start_time\n",
    "print(f\"✅ Simulation completed in: {elapsed}\")"
   ]
  },
  {
   "cell_type": "code",
   "execution_count": null,
   "id": "1ad84fce-4b8d-4f03-b0a6-830572f9c1d0",
   "metadata": {},
   "outputs": [],
   "source": [
    "import matplotlib.pyplot as plt\n",
    "\n",
    "def load_spikes_from_dat(filename):\n",
    "    \"\"\"\n",
    "    Load spikes from .dat file formatted as: <cell_id> <spike_time>\n",
    "    Returns a dictionary: {cell_id: [spike_times]}\n",
    "    \"\"\"\n",
    "    spikes = {}\n",
    "    with open(filename, 'r') as f:\n",
    "        for line in f:\n",
    "            if line.strip() == \"\":\n",
    "                continue\n",
    "            parts = line.strip().split()\n",
    "            if len(parts) != 2:\n",
    "                continue\n",
    "            cell_id = int(parts[0])\n",
    "            time = float(parts[1])\n",
    "            if cell_id not in spikes:\n",
    "                spikes[cell_id] = []\n",
    "            spikes[cell_id].append(time)\n",
    "    return spikes\n",
    "\n",
    "def plot_raster(spikes, title, ax, ylabel=\"Neuron #\", xlabel=\"Time (ms)\"):\n",
    "    \"\"\"\n",
    "    Plot raster of spike times.\n",
    "    `spikes` is a dict {cell_id: [times]}\n",
    "    \"\"\"\n",
    "    for neuron_id, times in spikes.items():\n",
    "        ax.vlines(times, neuron_id + 0.5, neuron_id + 1.5)\n",
    "    ax.set_ylabel(ylabel)\n",
    "    ax.set_xlabel(xlabel)\n",
    "    ax.set_title(title)\n",
    "\n",
    "# Load spike data (update filenames if needed)\n",
    "mf_spikes = load_spikes_from_dat(\"MF_spikes_behmod_40.dat\")\n",
    "grc_spikes = load_spikes_from_dat(\"GrC_spikes_behmod_40.dat\")\n",
    "\n",
    "# Create the figure\n",
    "fig, axs = plt.subplots(2, 1, figsize=(12, 8), sharex=True)\n",
    "\n",
    "# Plot both rasters\n",
    "plot_raster(mf_spikes, \"Mossy Fiber Spikes\", axs[0], ylabel=\"MF #\")\n",
    "plot_raster(grc_spikes, \"Granule Cell Spikes\", axs[1], ylabel=\"GrC #\", xlabel=\"Time (ms)\")\n",
    "\n",
    "plt.tight_layout()\n",
    "plt.xlim(0,20)\n",
    "plt.show()\n"
   ]
  },
  {
   "cell_type": "code",
   "execution_count": null,
   "id": "232013f8-a9cd-4ada-ae2a-6c3c8cbc314f",
   "metadata": {},
   "outputs": [],
   "source": []
  }
 ],
 "metadata": {
  "kernelspec": {
   "display_name": "Python 3 (ipykernel)",
   "language": "python",
   "name": "python3"
  },
  "language_info": {
   "codemirror_mode": {
    "name": "ipython",
    "version": 3
   },
   "file_extension": ".py",
   "mimetype": "text/x-python",
   "name": "python",
   "nbconvert_exporter": "python",
   "pygments_lexer": "ipython3",
   "version": "3.13.2"
  }
 },
 "nbformat": 4,
 "nbformat_minor": 5
}
